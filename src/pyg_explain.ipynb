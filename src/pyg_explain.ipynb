{
 "cells": [
  {
   "cell_type": "markdown",
   "metadata": {},
   "source": [
    "# PyG explainability"
   ]
  },
  {
   "cell_type": "code",
   "execution_count": 4,
   "metadata": {},
   "outputs": [
    {
     "name": "stdout",
     "output_type": "stream",
     "text": [
      "No config found\n"
     ]
    }
   ],
   "source": [
    "from utils.models import model_selector\n",
    "from utils.datasets import load_dataset, parse_config\n",
    "\n",
    "from torch_geometric.data import Data\n",
    "from torch_geometric.explain import Explainer, GNNExplainer\n",
    "\n",
    "import os\n",
    "GNN_MODEL = \"GNN\"\n",
    "DATASET = \"syn1\"\n",
    "cfg_path = f\"./configs/{GNN_MODEL}/{DATASET}.json\"\n",
    "cfg = parse_config(config_path=cfg_path)"
   ]
  },
  {
   "cell_type": "code",
   "execution_count": null,
   "metadata": {},
   "outputs": [],
   "source": [
    "# A homogenous graph data object.\n",
    "# data = Data(...)\n",
    "dataset, _ = load_dataset(dataset=DATASET)\n",
    "data = dataset[0]\n",
    "\n",
    "# instantiate GNN model\n",
    "model, _ = model_selector(paper=GNN_MODEL, dataset=DATASET, pretrained=False, config=cfg)\n",
    "\n",
    "\n",
    "explainer = Explainer(\n",
    "    model=model,\n",
    "    algorithm=GNNExplainer(epochs=200),\n",
    "    explanation_type='model',\n",
    "    node_mask_type='attributes',\n",
    "    edge_mask_type='object',\n",
    "    model_config=dict(\n",
    "        mode='multiclass_classification',\n",
    "        task_level='node',\n",
    "        return_type='log_probs',  # Model returns log of probability.\n",
    "    ),\n",
    ")\n",
    "\n",
    "# Generate explanation for the node at index `10`:\n",
    "explanation = explainer(data.x, data.edge_index, index=10)\n",
    "print(explanation.edge_mask)\n",
    "print(explanation.node_mask)"
   ]
  }
 ],
 "metadata": {
  "kernelspec": {
   "display_name": "masterXAI",
   "language": "python",
   "name": "python3"
  },
  "language_info": {
   "codemirror_mode": {
    "name": "ipython",
    "version": 3
   },
   "file_extension": ".py",
   "mimetype": "text/x-python",
   "name": "python",
   "nbconvert_exporter": "python",
   "pygments_lexer": "ipython3",
   "version": "3.10.6"
  },
  "orig_nbformat": 4,
  "vscode": {
   "interpreter": {
    "hash": "4559d4a6aa1c4a5efdbe8a44294c257da884b23ec5d8d2eeed237201549e4e1a"
   }
  }
 },
 "nbformat": 4,
 "nbformat_minor": 2
}
