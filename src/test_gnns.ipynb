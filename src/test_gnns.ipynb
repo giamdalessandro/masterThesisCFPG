{
 "cells": [
  {
   "attachments": {},
   "cell_type": "markdown",
   "metadata": {},
   "source": [
    "## Execute GNN model\n",
    "\n",
    "Test imported GNN models"
   ]
  },
  {
   "cell_type": "code",
   "execution_count": 11,
   "metadata": {},
   "outputs": [
    {
     "name": "stdout",
     "output_type": "stream",
     "text": [
      "[dataset]> ...loading dataset 'BAShapes()' from PyG\n",
      "\n",
      "[dataset]> BAShapes() dataset graph...\n",
      "\t-> Data(x=[700, 10], edge_index=[2, 3938], y=[700], expl_mask=[700], edge_label=[3938])\n",
      "\n",
      "Chosing node 515...\n",
      "\tnode neighborhood: torch.Size([2, 550])\n"
     ]
    }
   ],
   "source": [
    "import torch\n",
    "from torch_geometric.utils import k_hop_subgraph\n",
    "from torch_geometric.datasets import BAShapes\n",
    "\n",
    "\n",
    "## load a BAshapes dataset\n",
    "dataset = BAShapes(connection_distribution=\"random\")\n",
    "print(f\"[dataset]> ...loading dataset '{dataset}' from PyG\")\n",
    "\n",
    "graph = dataset[0]\n",
    "print(f\"\\n[dataset]> {dataset} dataset graph...\")\n",
    "print(\"\\t->\", graph)\n",
    "\n",
    "\n",
    "## extract a random node to train on\n",
    "l = range(400, 700, 5)\n",
    "idx = torch.randint(0, len(l), (1,))\n",
    "node_idx = torch.tensor([l[idx]]) \n",
    "print(f\"\\nChosing node {node_idx.item()}...\")\n",
    "\n",
    "edge_idx = graph.edge_index\n",
    "_, sub_index, _, _ = k_hop_subgraph(node_idx, 3, edge_idx)\n",
    "print(\"\\tnode neighborhood:\", sub_index.size())\n",
    "\n",
    "## node features\n",
    "x = graph.x"
   ]
  },
  {
   "cell_type": "code",
   "execution_count": 12,
   "metadata": {},
   "outputs": [
    {
     "name": "stdout",
     "output_type": "stream",
     "text": [
      "/media/zascerta/DATA/Universalis/eng_computer_science/thesis/code/bardocchiolo/src\n",
      "\n",
      "NodeGCN output for node 515:\n",
      "\t tensor([[-0.0743, -0.1241,  0.1271, -0.1530]], grad_fn=<IndexBackward0>)\n"
     ]
    }
   ],
   "source": [
    "import os\n",
    "root_path = os.getcwd()\n",
    "print(root_path)\n",
    "\n",
    "from gnns.GNNpaper import GraphGCN, NodeGCN\n",
    "\n",
    "#### instantiate GNNs model\n",
    "model = NodeGCN(num_features=10, num_classes=4, device=\"cpu\")\n",
    "output = model(x, sub_index)[node_idx]\n",
    "print(f\"\\nNodeGCN output for node {node_idx.item()}:\\n\\t\", output)\n"
   ]
  },
  {
   "cell_type": "code",
   "execution_count": 13,
   "metadata": {},
   "outputs": [
    {
     "name": "stdout",
     "output_type": "stream",
     "text": [
      "GCNSynthetic output for node 515:\n",
      "\t tensor([[-0.6209, -1.0587, -2.7275, -2.9901]], grad_fn=<IndexBackward0>)\n"
     ]
    }
   ],
   "source": [
    "from gnns.CFGNNpaper.gcn import GCNSynthetic\n",
    "\n",
    "#### need dense adjacency matrix for GCNSynthetic model\n",
    "v = torch.ones(sub_index.size(1))\n",
    "s = (graph.num_nodes,graph.num_nodes)\n",
    "sub_index = torch.sparse_coo_tensor(indices=sub_index, values=v, size=s).to_dense()\n",
    "\n",
    "model = GCNSynthetic(nfeat=10,nhid=20,nout=20,nclass=4,dropout=0.0)\n",
    "output = model(x, sub_index)[node_idx]\n",
    "print(f\"GCNSynthetic output for node {node_idx.item()}:\\n\\t\", output)"
   ]
  }
 ],
 "metadata": {
  "kernelspec": {
   "display_name": "XAI-cuda117",
   "language": "python",
   "name": "python3"
  },
  "language_info": {
   "codemirror_mode": {
    "name": "ipython",
    "version": 3
   },
   "file_extension": ".py",
   "mimetype": "text/x-python",
   "name": "python",
   "nbconvert_exporter": "python",
   "pygments_lexer": "ipython3",
   "version": "3.10.6"
  },
  "orig_nbformat": 4
 },
 "nbformat": 4,
 "nbformat_minor": 2
}
