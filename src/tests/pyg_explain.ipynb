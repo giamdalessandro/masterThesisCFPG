{
 "cells": [
  {
   "attachments": {},
   "cell_type": "markdown",
   "metadata": {},
   "source": [
    "# PyG explainability\n",
    "\n",
    "NOTE: many explainability finctionality in PyG documentation have not been yet implemented "
   ]
  },
  {
   "cell_type": "code",
   "execution_count": null,
   "metadata": {},
   "outputs": [],
   "source": [
    "from utils.models import model_selector\n",
    "from utils.datasets import load_dataset, parse_config\n",
    "#from explainers.PGExplainer import PGExplainer\n",
    "\n",
    "import torch\n",
    "from torch_geometric.data import Data\n",
    "from torch_geometric.explain import Explainer, GNNExplainer\n",
    "\n",
    "import os\n",
    "GNN_MODEL = \"GNN\"\n",
    "DATASET = \"bashapes\"\n",
    "cfg_path = f\"./configs/{GNN_MODEL}/{DATASET}.json\"\n",
    "cfg = parse_config(config_path=cfg_path)"
   ]
  },
  {
   "cell_type": "code",
   "execution_count": null,
   "metadata": {},
   "outputs": [],
   "source": [
    "# A homogenous graph data object.\n",
    "# data = Data(...)\n",
    "dataset, _ = load_dataset(dataset=\"syn1\")\n",
    "data = dataset[0]\n",
    "\n",
    "# instantiate GNN model\n",
    "model, _ = model_selector(paper=GNN_MODEL, dataset=\"syn1\", pretrained=False, config=cfg)\n",
    "\n",
    "## ZAVVE: i'm using pyg '2.2.0', that is not the 'latest' version,\n",
    "# in the 'latest' version the definition of ExplainerConfig and\n",
    "# ModelConfig have been changed;\n",
    "explainer = Explainer(\n",
    "    model=model,\n",
    "    algorithm=GNNExplainer(epochs=200),\n",
    "    explainer_config=dict(\n",
    "        explanation_type='model',\n",
    "        node_mask_type='attributes',\n",
    "        edge_mask_type='object',\n",
    "    ),\n",
    "    model_config=dict(\n",
    "        mode='classification',\n",
    "        task_level='node',\n",
    "        return_type='log_probs',  # Model returns log of probability.\n",
    "    ),\n",
    ")\n",
    "\n",
    "# Generate explanation for the node at index `10`:\n",
    "explanation = explainer(data.x, data.edge_index, index=450)\n",
    "\n",
    "print(\"\\nexplanation...\")\n",
    "print(\"edge_mask:\", explanation.edge_mask)\n",
    "print(\"expl_size (#edges):\", torch.sum(explanation.edge_mask >= 0.5))\n",
    "#print(explanation.node_mask)   # only (maybe) in latest version of PyG\n",
    "#explanation.visualize_graph()  # "
   ]
  }
 ],
 "metadata": {
  "kernelspec": {
   "display_name": "XAIcuda117",
   "language": "python",
   "name": "python3"
  },
  "language_info": {
   "codemirror_mode": {
    "name": "ipython",
    "version": 3
   },
   "file_extension": ".py",
   "mimetype": "text/x-python",
   "name": "python",
   "nbconvert_exporter": "python",
   "pygments_lexer": "ipython3",
   "version": "3.10.6"
  },
  "orig_nbformat": 4,
  "vscode": {
   "interpreter": {
    "hash": "b0012580e0fd0ee8d7ec04ddc0a4c048a0607a14fb501fef7d976e68c94c0da4"
   }
  }
 },
 "nbformat": 4,
 "nbformat_minor": 2
}
