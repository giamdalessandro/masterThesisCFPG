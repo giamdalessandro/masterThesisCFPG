{
 "cells": [
  {
   "attachments": {},
   "cell_type": "markdown",
   "metadata": {},
   "source": [
    "# PyG Data Loaders\n",
    "\n",
    "Test PyG dataloaders for graph data. `NeighborLoader` samples the subgraph composed of *n* nodes and their relative neighborhood (*3-hop* neighbors in the example below). "
   ]
  },
  {
   "cell_type": "code",
   "execution_count": 1,
   "metadata": {},
   "outputs": [],
   "source": [
    "import torch\n",
    "from torch_geometric.datasets import Planetoid\n",
    "from torch_geometric.loader import NeighborLoader"
   ]
  },
  {
   "cell_type": "code",
   "execution_count": 2,
   "metadata": {},
   "outputs": [
    {
     "name": "stdout",
     "output_type": "stream",
     "text": [
      "Data:\n",
      "\tedge_index: torch.Size([2, 10556])\n",
      "\tx: torch.Size([2708, 1433])\n"
     ]
    }
   ],
   "source": [
    "data = Planetoid(\"../../datasets/\", name='Cora')[0]\n",
    "print(\"Data:\\n\\tedge_index:\", data.edge_index.size())\n",
    "print(\"\\tx:\", data.x.size())\n",
    "\n",
    "data.n_id = torch.arange(data.num_nodes)\n",
    "\n",
    "# Sample n neighbors for each node for 3 GNN iterations\n",
    "loader = NeighborLoader(\n",
    "    data,                             # graph from which nodes are sampled\n",
    "    num_neighbors=[-1] * 3,           # use -1 to consider all neighbors, 3 to consider 3-hops \n",
    "    batch_size=1,                     # Use a batch size of 128 for sampling training nodes\n",
    "    input_nodes=torch.LongTensor(10), # data.train_mask in general,\n",
    "    disjoint=True,\n",
    ")\n",
    "\n",
    "sampled_data = next(iter(loader))\n",
    "#print(\"\\nsampled_data:\\n\\tedge_index:\", sampled_data.edge_index.size())\n",
    "#print(\"\\tx:\", sampled_data.x.size())\n",
    "#print(\"\\nn_id:\", sampled_data.n_id.size())\n",
    "#print(\"n_id:\", sampled_data.n_id)"
   ]
  }
 ],
 "metadata": {
  "kernelspec": {
   "display_name": "XAI-cuda117",
   "language": "python",
   "name": "python3"
  },
  "language_info": {
   "codemirror_mode": {
    "name": "ipython",
    "version": 3
   },
   "file_extension": ".py",
   "mimetype": "text/x-python",
   "name": "python",
   "nbconvert_exporter": "python",
   "pygments_lexer": "ipython3",
   "version": "3.10.6"
  },
  "orig_nbformat": 4,
  "vscode": {
   "interpreter": {
    "hash": "5a7fc62222803ac0467ef702654045895d4c8849a5c281e054a6b550930fdb9f"
   }
  }
 },
 "nbformat": 4,
 "nbformat_minor": 2
}
