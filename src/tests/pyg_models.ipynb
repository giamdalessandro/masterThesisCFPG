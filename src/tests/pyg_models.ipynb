{
 "cells": [
  {
   "attachments": {},
   "cell_type": "markdown",
   "metadata": {},
   "source": [
    "## GNN traning "
   ]
  },
  {
   "attachments": {},
   "cell_type": "markdown",
   "metadata": {},
   "source": [
    "### Dataset"
   ]
  },
  {
   "cell_type": "code",
   "execution_count": 1,
   "metadata": {},
   "outputs": [
    {
     "name": "stdout",
     "output_type": "stream",
     "text": [
      "[dataset]> ...loading dataset 'BAShapes()' from PyG\n",
      "\t#entries:       1\n",
      "\t#classes:       4\n",
      "\t#node_features: 10\n",
      "\t#edge_features: 0\n",
      "\n",
      "[dataset]> BAShapes() dataset graph...\n",
      "\t-> Data(x=[700, 10], edge_index=[2, 3928], y=[700], expl_mask=[700], edge_label=[3928])\n",
      "\t#nodes: 700\n",
      "\t#edges: 3928\n"
     ]
    }
   ],
   "source": [
    "from torch_geometric.datasets import BAShapes\n",
    "\n",
    "## load a BAshapes dataset\n",
    "dataset = BAShapes(connection_distribution=\"random\")\n",
    "print(f\"[dataset]> ...loading dataset '{dataset}' from PyG\")\n",
    "\n",
    "print(\"\\t#entries:      \", len(dataset))\n",
    "print(\"\\t#classes:      \", dataset.num_classes)\n",
    "print(\"\\t#node_features:\", dataset.num_node_features)\n",
    "print(\"\\t#edge_features:\", dataset.num_edge_features)\n",
    "\n",
    "graph = dataset[0]\n",
    "print(f\"\\n[dataset]> {dataset} dataset graph...\")\n",
    "print(\"\\t->\", graph)\n",
    "print(\"\\t#nodes:\", graph.num_nodes)\n",
    "print(\"\\t#edges:\", graph.num_edges)"
   ]
  },
  {
   "attachments": {},
   "cell_type": "markdown",
   "metadata": {},
   "source": [
    "### Extract node neighborhood "
   ]
  },
  {
   "cell_type": "code",
   "execution_count": 2,
   "metadata": {},
   "outputs": [
    {
     "name": "stdout",
     "output_type": "stream",
     "text": [
      "\n",
      "Chosing node 625...\n",
      "\tnode neighborhood: torch.Size([2, 2492])\n",
      "\tnode features    : torch.Size([700, 10])\n"
     ]
    }
   ],
   "source": [
    "import torch\n",
    "from torch_geometric.utils import k_hop_subgraph\n",
    "\n",
    "## extract a random node to train on\n",
    "l = range(400, 700, 5)\n",
    "idx = torch.randint(0, len(l), (1,))\n",
    "node_idx = torch.tensor([l[idx]]) \n",
    "print(f\"\\nChosing node {node_idx.item()}...\")\n",
    "\n",
    "edge_idx = graph.edge_index\n",
    "_, sub_index, _, _ = k_hop_subgraph(node_idx, 3, edge_idx)\n",
    "print(\"\\tnode neighborhood:\", sub_index.size())\n",
    "\n",
    "## node features\n",
    "x = graph.node_stores[0][\"x\"]\n",
    "print(\"\\tnode features    :\", x.size())"
   ]
  },
  {
   "attachments": {},
   "cell_type": "markdown",
   "metadata": {},
   "source": [
    "### Execute GNN model"
   ]
  },
  {
   "cell_type": "code",
   "execution_count": 3,
   "metadata": {},
   "outputs": [],
   "source": [
    "import os\n",
    "#root_path = os.getcwd()\n",
    "#print(root_path)\n",
    "#app_path = os.path.join(root_path, \"..\", \"src\")\n",
    "#print(app_path)\n",
    "#os.environ[\"PATH\"] += os.pathsep + \"/media/zascerta/DATA/Universalis/eng_computer_science/thesis/code/bardocchiolo/src/gnns\"\n",
    "\n",
    "##from gnns.paper_GNN.GNN import GraphGCN, NodeGCN\n",
    "##from gnns.paper_CFGNN.gcn import GCNSynthetic\n",
    "##\n",
    "#### instantiate GNNs model\n",
    "##model = NodeGCN(num_features=10, num_classes=4, device=\"cpu\")\n",
    "##output = model(x, sub_index)[node_idx]\n",
    "##print(\"\\nGNN output  :\", output)\n",
    "##\n",
    "#### need dense adjacency matrix for GCNSynthetic model\n",
    "##v = torch.ones(sub_index.size(1))\n",
    "##s = (graph.num_nodes,graph.num_nodes)\n",
    "##sub_index = torch.sparse_coo_tensor(indices=sub_index, values=v, size=s).to_dense()\n",
    "##\n",
    "##model = GCNSynthetic(nfeat=10,nhid=20,nout=20,nclass=4,dropout=0.0)\n",
    "##output = model(x, sub_index)[node_idx]\n",
    "##print(\"CF-GNN output:\", output)"
   ]
  },
  {
   "attachments": {},
   "cell_type": "markdown",
   "metadata": {},
   "source": [
    "### PyG Loaders"
   ]
  },
  {
   "cell_type": "code",
   "execution_count": 4,
   "metadata": {},
   "outputs": [],
   "source": [
    "import torch\n",
    "from torch_geometric.datasets import Planetoid\n",
    "from torch_geometric.loader import NeighborLoader"
   ]
  },
  {
   "cell_type": "code",
   "execution_count": 5,
   "metadata": {},
   "outputs": [
    {
     "ename": "",
     "evalue": "",
     "output_type": "error",
     "traceback": [
      "\u001b[1;31mThe Kernel crashed while executing code in the the current cell or a previous cell. Please review the code in the cell(s) to identify a possible cause of the failure. Click <a href='https://aka.ms/vscodeJupyterKernelCrash'>here</a> for more info. View Jupyter <a href='command:jupyter.viewOutput'>log</a> for further details."
     ]
    },
    {
     "ename": "",
     "evalue": "",
     "output_type": "error",
     "traceback": [
      "\u001b[1;31mCanceled future for execute_request message before replies were done"
     ]
    }
   ],
   "source": [
    "data = Planetoid(\"../../datasets/\", name='Cora')[0]\n",
    "print(\"Data:\\n\\tedge_index:\", data.edge_index.size())\n",
    "print(\"\\tx:\", data.x.size())\n",
    "\n",
    "data.n_id = torch.arange(data.num_nodes)\n",
    "\n",
    "loader = NeighborLoader(\n",
    "    data,\n",
    "    # Sample n neighbors for each node for 3 GNN iterations\n",
    "    # use -1 to consider all neighbors\n",
    "    num_neighbors=[-1] * 3,\n",
    "    # Use a batch size of 128 for sampling training nodes\n",
    "    batch_size=1,\n",
    "    input_nodes=torch.LongTensor(10), #data.train_mask,\n",
    "    disjoint=True,\n",
    ")\n",
    "\n",
    "sampled_data = next(iter(loader))\n",
    "#print(\"\\nsampled_data:\\n\\tedge_index:\", sampled_data.edge_index.size())\n",
    "#print(\"\\tx:\", sampled_data.x.size())\n",
    "#print(\"\\nn_id:\", sampled_data.n_id.size())\n",
    "#print(\"n_id:\", sampled_data.n_id)"
   ]
  }
 ],
 "metadata": {
  "kernelspec": {
   "display_name": "XAI-cuda117",
   "language": "python",
   "name": "python3"
  },
  "language_info": {
   "codemirror_mode": {
    "name": "ipython",
    "version": 3
   },
   "file_extension": ".py",
   "mimetype": "text/x-python",
   "name": "python",
   "nbconvert_exporter": "python",
   "pygments_lexer": "ipython3",
   "version": "3.10.6"
  },
  "orig_nbformat": 4,
  "vscode": {
   "interpreter": {
    "hash": "5a7fc62222803ac0467ef702654045895d4c8849a5c281e054a6b550930fdb9f"
   }
  }
 },
 "nbformat": 4,
 "nbformat_minor": 2
}
