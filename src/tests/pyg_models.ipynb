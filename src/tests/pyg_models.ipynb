{
 "cells": [
  {
   "attachments": {},
   "cell_type": "markdown",
   "metadata": {},
   "source": [
    "## GNN traning "
   ]
  },
  {
   "attachments": {},
   "cell_type": "markdown",
   "metadata": {},
   "source": [
    "### Dataset"
   ]
  },
  {
   "cell_type": "code",
   "execution_count": 1,
   "metadata": {},
   "outputs": [
    {
     "name": "stderr",
     "output_type": "stream",
     "text": [
      "/home/zascerta/virtEnvs/caccola/lib/python3.10/site-packages/tqdm/auto.py:22: TqdmWarning: IProgress not found. Please update jupyter and ipywidgets. See https://ipywidgets.readthedocs.io/en/stable/user_install.html\n",
      "  from .autonotebook import tqdm as notebook_tqdm\n"
     ]
    },
    {
     "name": "stdout",
     "output_type": "stream",
     "text": [
      "[dataset]> ...loading dataset 'BAShapes()' from PyG\n",
      "\t#entries:       1\n",
      "\t#classes:       4\n",
      "\t#node_features: 10\n",
      "\t#edge_features: 0\n",
      "\n",
      "[dataset]> BAShapes() dataset graph...\n",
      "\t-> Data(x=[700, 10], edge_index=[2, 3952], y=[700], expl_mask=[700], edge_label=[3952])\n",
      "\t#nodes: 700\n",
      "\t#edges: 3952\n"
     ]
    }
   ],
   "source": [
    "from torch_geometric.datasets import BAShapes\n",
    "\n",
    "## load a BAshapes dataset\n",
    "dataset = BAShapes(connection_distribution=\"random\")\n",
    "print(f\"[dataset]> ...loading dataset '{dataset}' from PyG\")\n",
    "\n",
    "print(\"\\t#entries:      \", len(dataset))\n",
    "print(\"\\t#classes:      \", dataset.num_classes)\n",
    "print(\"\\t#node_features:\", dataset.num_node_features)\n",
    "print(\"\\t#edge_features:\", dataset.num_edge_features)\n",
    "\n",
    "graph = dataset[0]\n",
    "print(f\"\\n[dataset]> {dataset} dataset graph...\")\n",
    "print(\"\\t->\", graph)\n",
    "print(\"\\t#nodes:\", graph.num_nodes)\n",
    "print(\"\\t#edges:\", graph.num_edges)"
   ]
  },
  {
   "attachments": {},
   "cell_type": "markdown",
   "metadata": {},
   "source": [
    "### Extract node neighborhood "
   ]
  },
  {
   "cell_type": "code",
   "execution_count": 2,
   "metadata": {},
   "outputs": [
    {
     "name": "stdout",
     "output_type": "stream",
     "text": [
      "\n",
      "Chosing node 655...\n",
      "\tnode neighborhood: torch.Size([2, 898])\n",
      "\tnode features    : torch.Size([700, 10])\n"
     ]
    }
   ],
   "source": [
    "import torch\n",
    "from torch_geometric.utils import k_hop_subgraph\n",
    "\n",
    "## extract a random node to train on\n",
    "l = range(400, 700, 5)\n",
    "idx = torch.randint(0, len(l), (1,))\n",
    "node_idx = torch.tensor([l[idx]]) \n",
    "print(f\"\\nChosing node {node_idx.item()}...\")\n",
    "\n",
    "edge_idx = graph.edge_index\n",
    "_, sub_index, _, _ = k_hop_subgraph(node_idx, 3, edge_idx)\n",
    "print(\"\\tnode neighborhood:\", sub_index.size())\n",
    "\n",
    "## node features\n",
    "x = graph.node_stores[0][\"x\"]\n",
    "print(\"\\tnode features    :\", x.size())"
   ]
  },
  {
   "attachments": {},
   "cell_type": "markdown",
   "metadata": {},
   "source": [
    "### Execute GNN model"
   ]
  },
  {
   "cell_type": "code",
   "execution_count": 5,
   "metadata": {},
   "outputs": [
    {
     "ename": "ModuleNotFoundError",
     "evalue": "No module named 'gnns'",
     "output_type": "error",
     "traceback": [
      "\u001b[0;31m---------------------------------------------------------------------------\u001b[0m",
      "\u001b[0;31mModuleNotFoundError\u001b[0m                       Traceback (most recent call last)",
      "Cell \u001b[0;32mIn[5], line 8\u001b[0m\n\u001b[1;32m      1\u001b[0m \u001b[39mimport\u001b[39;00m \u001b[39mos\u001b[39;00m\n\u001b[1;32m      2\u001b[0m \u001b[39m#root_path = os.getcwd()\u001b[39;00m\n\u001b[1;32m      3\u001b[0m \u001b[39m#print(root_path)\u001b[39;00m\n\u001b[1;32m      4\u001b[0m \u001b[39m#app_path = os.path.join(root_path, \"..\", \"src\")\u001b[39;00m\n\u001b[1;32m      5\u001b[0m \u001b[39m#print(app_path)\u001b[39;00m\n\u001b[1;32m      6\u001b[0m \u001b[39m#os.environ[\"PATH\"] += os.pathsep + \"/media/zascerta/DATA/Universalis/eng_computer_science/thesis/code/bardocchiolo/src/gnns\"\u001b[39;00m\n\u001b[0;32m----> 8\u001b[0m \u001b[39mfrom\u001b[39;00m \u001b[39mgnns\u001b[39;00m\u001b[39m.\u001b[39;00m\u001b[39mpaper_GNN\u001b[39;00m\u001b[39m.\u001b[39;00m\u001b[39mGNN\u001b[39;00m \u001b[39mimport\u001b[39;00m GraphGCN, NodeGCN\n\u001b[1;32m      9\u001b[0m \u001b[39mfrom\u001b[39;00m \u001b[39mgnns\u001b[39;00m\u001b[39m.\u001b[39;00m\u001b[39mpaper_CFGNN\u001b[39;00m\u001b[39m.\u001b[39;00m\u001b[39mgcn\u001b[39;00m \u001b[39mimport\u001b[39;00m GCNSynthetic\n\u001b[1;32m     11\u001b[0m \u001b[39m## instantiate GNNs model\u001b[39;00m\n",
      "\u001b[0;31mModuleNotFoundError\u001b[0m: No module named 'gnns'"
     ]
    }
   ],
   "source": [
    "import os\n",
    "#root_path = os.getcwd()\n",
    "#print(root_path)\n",
    "#app_path = os.path.join(root_path, \"..\", \"src\")\n",
    "#print(app_path)\n",
    "#os.environ[\"PATH\"] += os.pathsep + \"/media/zascerta/DATA/Universalis/eng_computer_science/thesis/code/bardocchiolo/src/gnns\"\n",
    "\n",
    "from gnns.paper_GNN.GNN import GraphGCN, NodeGCN\n",
    "from gnns.paper_CFGNN.gcn import GCNSynthetic\n",
    "\n",
    "## instantiate GNNs model\n",
    "model = NodeGCN(num_features=10, num_classes=4, device=\"cpu\")\n",
    "output = model(x, sub_index)[node_idx]\n",
    "print(\"\\nGNN output  :\", output)\n",
    "\n",
    "## need dense adjacency matrix for GCNSynthetic model\n",
    "v = torch.ones(sub_index.size(1))\n",
    "s = (graph.num_nodes,graph.num_nodes)\n",
    "sub_index = torch.sparse_coo_tensor(indices=sub_index, values=v, size=s).to_dense()\n",
    "\n",
    "model = GCNSynthetic(nfeat=10,nhid=20,nout=20,nclass=4,dropout=0.0)\n",
    "output = model(x, sub_index)[node_idx]\n",
    "print(\"CF-GNN output:\", output)"
   ]
  }
 ],
 "metadata": {
  "kernelspec": {
   "display_name": "caccola",
   "language": "python",
   "name": "python3"
  },
  "language_info": {
   "codemirror_mode": {
    "name": "ipython",
    "version": 3
   },
   "file_extension": ".py",
   "mimetype": "text/x-python",
   "name": "python",
   "nbconvert_exporter": "python",
   "pygments_lexer": "ipython3",
   "version": "3.10.6"
  },
  "orig_nbformat": 4,
  "vscode": {
   "interpreter": {
    "hash": "e3ca79e449214c64be19c6c6acf20f55a0e0103d6ac6b99802c40f43a27581da"
   }
  }
 },
 "nbformat": 4,
 "nbformat_minor": 2
}
