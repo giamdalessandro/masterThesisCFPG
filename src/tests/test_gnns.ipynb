{
 "cells": [
  {
   "attachments": {},
   "cell_type": "markdown",
   "metadata": {},
   "source": [
    "## Execute GNN models\n",
    "\n",
    "Test imported GNN models"
   ]
  },
  {
   "cell_type": "code",
   "execution_count": null,
   "metadata": {},
   "outputs": [],
   "source": [
    "import torch\n",
    "from torch_geometric.utils import k_hop_subgraph\n",
    "from torch_geometric.datasets import BAShapes\n",
    "\n",
    "\n",
    "## load a BAshapes dataset\n",
    "dataset = BAShapes(connection_distribution=\"random\")\n",
    "print(f\"[dataset]> ...loading dataset '{dataset}' from PyG\")\n",
    "\n",
    "graph = dataset[0]\n",
    "print(f\"\\n[dataset]> {dataset} dataset graph...\")\n",
    "print(\"\\t->\", graph)\n",
    "\n",
    "\n",
    "## extract a random node to train on\n",
    "l = range(400, 700, 5)\n",
    "idx = torch.randint(0, len(l), (1,))\n",
    "node_idx = torch.tensor([l[idx]]) \n",
    "print(f\"\\nChosing node {node_idx.item()}...\")\n",
    "\n",
    "edge_idx = graph.edge_index\n",
    "_, sub_index, _, _ = k_hop_subgraph(node_idx, 3, edge_idx)\n",
    "print(\"\\tnode neighborhood:\", sub_index.size())\n",
    "\n",
    "## node features\n",
    "x = graph.x"
   ]
  },
  {
   "cell_type": "code",
   "execution_count": null,
   "metadata": {},
   "outputs": [],
   "source": [
    "import os\n",
    "root_path = os.getcwd()\n",
    "print(root_path)\n",
    "\n",
    "from gnns.GNNpaper import GraphGCN, NodeGCN\n",
    "\n",
    "#### instantiate GNNs model\n",
    "model = NodeGCN(num_features=10, num_classes=4, device=\"cpu\")\n",
    "output = model(x, sub_index)[node_idx]\n",
    "print(f\"\\nNodeGCN output for node {node_idx.item()}:\\n\\t\", output)\n"
   ]
  },
  {
   "cell_type": "code",
   "execution_count": null,
   "metadata": {},
   "outputs": [],
   "source": [
    "from gnns.CFGNNpaper import GCNSynthetic, GCNSyntheticPerturb\n",
    "\n",
    "#### need dense adjacency matrix for GCNSynthetic model\n",
    "v = torch.ones(sub_index.size(1))\n",
    "s = (graph.num_nodes,graph.num_nodes)\n",
    "#sub_index = torch.sparse_coo_tensor(indices=sub_index, values=v, size=s).to_dense()\n",
    "\n",
    "model = GCNSyntheticPerturb(nfeat=10,nhid=20,nout=20,nclass=4,adj=sub_index,dropout=0.0, beta=0.5)\n",
    "output = model(x, sub_index)[node_idx]\n",
    "print(f\"GCNSynthetic output for node {node_idx.item()}:\\n\\t\", output)"
   ]
  }
 ],
 "metadata": {
  "kernelspec": {
   "display_name": "XAI-cuda117",
   "language": "python",
   "name": "python3"
  },
  "language_info": {
   "codemirror_mode": {
    "name": "ipython",
    "version": 3
   },
   "file_extension": ".py",
   "mimetype": "text/x-python",
   "name": "python",
   "nbconvert_exporter": "python",
   "pygments_lexer": "ipython3",
   "version": "3.10.6"
  },
  "orig_nbformat": 4
 },
 "nbformat": 4,
 "nbformat_minor": 2
}
