{
 "cells": [
  {
   "cell_type": "markdown",
   "metadata": {},
   "source": [
    "## Pytorch-geometric (PyG) tests"
   ]
  },
  {
   "cell_type": "code",
   "execution_count": null,
   "metadata": {},
   "outputs": [],
   "source": [
    "import torch"
   ]
  },
  {
   "attachments": {},
   "cell_type": "markdown",
   "metadata": {},
   "source": [
    "## Datasets\n",
    "Basic graph data definition in PyG"
   ]
  },
  {
   "attachments": {},
   "cell_type": "markdown",
   "metadata": {},
   "source": [
    "### Data points\n",
    "Example of graph implementation in PyG as data points (`Data` class), i.e. elements of a graph dataset."
   ]
  },
  {
   "cell_type": "code",
   "execution_count": null,
   "metadata": {},
   "outputs": [],
   "source": [
    "from torch_geometric.data import Data\n",
    "\n",
    "# edge_index contains indexes of nodes with incident edges in the form [2, num_edges],\n",
    "# one row for the staring node index, one row for the ending node index of each edge.\n",
    "# In the following example edge_index is encoding a directed graph with three nodes\n",
    "# (0,1,2) and four edges (0->1, 1->0, 1->2, 2->1).   \n",
    "edge_index = torch.tensor([[0, 1, 1, 2],\n",
    "                           [1, 0, 2, 1]], dtype=torch.long)\n",
    "\n",
    "# Data x parameters encodes graph node features. In the following example x assign a \n",
    "# 1-dimensional feature vector to each node (x0= -1, x1= 0, x2= 1)\n",
    "x = torch.tensor([[-1], [0], [1]], dtype=torch.float)\n",
    "\n",
    "# Having the edge_index and the feature matrix we can construct a PyG data point (i.e\n",
    "# a graph) with the following.\n",
    "data = Data(x=x, edge_index=edge_index)\n",
    "# NOTE: default toString shows only the size of x and edge_index  \n",
    "print(data)"
   ]
  },
  {
   "attachments": {},
   "cell_type": "markdown",
   "metadata": {},
   "source": [
    "### Implemented Datasets\n",
    "How to import one of the graph datasets already implemented in PyG, using the `Dataset` class. "
   ]
  },
  {
   "cell_type": "code",
   "execution_count": 9,
   "metadata": {},
   "outputs": [
    {
     "name": "stdout",
     "output_type": "stream",
     "text": [
      "[dataset]> ...loading dataset 'BAShapes()' from PyG\n",
      "\t#entries:       1\n",
      "\t#classes:       4\n",
      "\t#node_features: 10\n",
      "\t#edge_features: 0\n",
      "\n",
      "[dataset]> BAShapes() dataset graph...\n",
      "\t-> Data(x=[700, 10], edge_index=[2, 3922], y=[700], expl_mask=[700], edge_label=[3922])\n",
      "\t#nodes: 700\n",
      "\t#edges: 3922\n",
      "torch.Size([700, 10])\n",
      "torch.Size([2, 3922])\n"
     ]
    }
   ],
   "source": [
    "from torch_geometric.datasets import BAShapes\n",
    "\n",
    "# the constructor from the library return an instance of the implemented dataset chosen.\n",
    "# In this example, BAShapes() returns a Barabasi-albert (BA) graph enhanced with some motifs\n",
    "# (300 nodes and a set of 80 \"house\"-structured graphs connected to it), generated following\n",
    "# the \"GNNExplainer: Generating Explanations for Graph Neural Networks\" paper.\n",
    "dataset = BAShapes(connection_distribution=\"random\")\n",
    "print(f\"[dataset]> ...loading dataset '{dataset}' from PyG\")\n",
    "\n",
    "# a Dataset object exposes some attributes abuot the data \n",
    "print(\"\\t#entries:      \", len(dataset))\n",
    "print(\"\\t#classes:      \", dataset.num_classes)\n",
    "print(\"\\t#node_features:\", dataset.num_node_features)\n",
    "print(\"\\t#edge_features:\", dataset.num_edge_features)\n",
    "\n",
    "# a dataset entry (i.e. a graph) is retrieved as a Data object (i.e. a data point)\n",
    "graph = dataset[0]\n",
    "print(f\"\\n[dataset]> {dataset} dataset graph...\")\n",
    "print(\"\\t->\", graph)\n",
    "print(\"\\t#nodes:\", graph.num_nodes)\n",
    "print(\"\\t#edges:\", graph.num_edges)\n",
    "\n",
    "print(graph.node_stores[0][\"x\"].size())\n",
    "print(graph)"
   ]
  }
 ],
 "metadata": {
  "kernelspec": {
   "display_name": "Python 3.10.6 ('masterXAI')",
   "language": "python",
   "name": "python3"
  },
  "language_info": {
   "codemirror_mode": {
    "name": "ipython",
    "version": 3
   },
   "file_extension": ".py",
   "mimetype": "text/x-python",
   "name": "python",
   "nbconvert_exporter": "python",
   "pygments_lexer": "ipython3",
   "version": "3.10.6"
  },
  "orig_nbformat": 4,
  "vscode": {
   "interpreter": {
    "hash": "4559d4a6aa1c4a5efdbe8a44294c257da884b23ec5d8d2eeed237201549e4e1a"
   }
  }
 },
 "nbformat": 4,
 "nbformat_minor": 2
}
